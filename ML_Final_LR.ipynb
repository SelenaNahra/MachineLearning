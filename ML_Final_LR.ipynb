{
  "nbformat": 4,
  "nbformat_minor": 0,
  "metadata": {
    "colab": {
      "provenance": [],
      "include_colab_link": true
    },
    "kernelspec": {
      "name": "python3",
      "display_name": "Python 3"
    },
    "language_info": {
      "name": "python"
    }
  },
  "cells": [
    {
      "cell_type": "markdown",
      "metadata": {
        "id": "view-in-github",
        "colab_type": "text"
      },
      "source": [
        "<a href=\"https://colab.research.google.com/github/SelenaNahra/MachineLearning/blob/main/ML_Final_LR.ipynb\" target=\"_parent\"><img src=\"https://colab.research.google.com/assets/colab-badge.svg\" alt=\"Open In Colab\"/></a>"
      ]
    },
    {
      "cell_type": "code",
      "execution_count": null,
      "metadata": {
        "colab": {
          "base_uri": "https://localhost:8080/"
        },
        "id": "jtEXkiBQ6Dof",
        "outputId": "f3943486-17e0-4446-c2f9-15f79dab73b4"
      },
      "outputs": [
        {
          "output_type": "stream",
          "name": "stdout",
          "text": [
            "   HeartDiseaseorAttack  HighBP  HighChol  CholCheck  BMI  Smoker  Stroke  \\\n",
            "0                     0       1         1          1   40       1       0   \n",
            "1                     0       0         0          0   25       1       0   \n",
            "2                     0       1         1          1   28       0       0   \n",
            "3                     0       1         0          1   27       0       0   \n",
            "4                     0       1         1          1   24       0       0   \n",
            "5                     0       1         1          1   25       1       0   \n",
            "6                     0       1         0          1   30       1       0   \n",
            "7                     0       1         1          1   25       1       0   \n",
            "8                     1       1         1          1   30       1       0   \n",
            "9                     0       0         0          1   24       0       0   \n",
            "\n",
            "   Diabetes  PhysActivity  Fruits  ...  AnyHealthcare  NoDocbcCost  GenHlth  \\\n",
            "0         0             0       0  ...              1            0        5   \n",
            "1         0             1       0  ...              0            1        3   \n",
            "2         0             0       1  ...              1            1        5   \n",
            "3         0             1       1  ...              1            0        2   \n",
            "4         0             1       1  ...              1            0        2   \n",
            "5         0             1       1  ...              1            0        2   \n",
            "6         0             0       0  ...              1            0        3   \n",
            "7         0             1       0  ...              1            0        3   \n",
            "8         2             0       1  ...              1            0        5   \n",
            "9         0             0       0  ...              1            0        2   \n",
            "\n",
            "   MentHlth  PhysHlth  DiffWalk  Sex  Age  Education  Income  \n",
            "0        18        15         1    0    9          4       3  \n",
            "1         0         0         0    0    7          6       1  \n",
            "2        30        30         1    0    9          4       8  \n",
            "3         0         0         0    0   11          3       6  \n",
            "4         3         0         0    0   11          5       4  \n",
            "5         0         2         0    1   10          6       8  \n",
            "6         0        14         0    0    9          6       7  \n",
            "7         0         0         1    0   11          4       4  \n",
            "8        30        30         1    0    9          5       1  \n",
            "9         0         0         0    1    8          4       3  \n",
            "\n",
            "[10 rows x 22 columns]\n"
          ]
        }
      ],
      "source": [
        "import numpy as np\n",
        "import matplotlib.pyplot as plt\n",
        "import pandas as pd\n",
        "import seaborn as sns\n",
        "\n",
        "# Import the data set\n",
        "data = pd.read_csv(\"Project DataSet.csv\")\n",
        "print(data.head(10))"
      ]
    },
    {
      "cell_type": "code",
      "source": [
        "print(data.columns)\n",
        "print(data.head(10))"
      ],
      "metadata": {
        "id": "i7aiZLeZpaAe",
        "colab": {
          "base_uri": "https://localhost:8080/"
        },
        "outputId": "7e7b8565-e637-4416-b2b6-fadd6ef3c279"
      },
      "execution_count": null,
      "outputs": [
        {
          "output_type": "stream",
          "name": "stdout",
          "text": [
            "Index(['HeartDiseaseorAttack', 'HighBP', 'HighChol', 'BMI', 'Smoker', 'Stroke',\n",
            "       'Diabetes', 'Fruits', 'Veggies', 'HvyAlcoholConsump'],\n",
            "      dtype='object')\n",
            "   HeartDiseaseorAttack  HighBP  HighChol  BMI  Smoker  Stroke  Diabetes  \\\n",
            "0                     0       1         1    1       1       0         0   \n",
            "1                     0       0         0    0       1       0         0   \n",
            "2                     0       1         1    0       0       0         0   \n",
            "3                     0       1         0    0       0       0         0   \n",
            "4                     0       1         1    0       0       0         0   \n",
            "5                     0       1         1    0       1       0         0   \n",
            "6                     0       1         0    1       1       0         0   \n",
            "7                     0       1         1    0       1       0         0   \n",
            "8                     1       1         1    1       1       0         1   \n",
            "9                     0       0         0    0       0       0         0   \n",
            "\n",
            "   Fruits  Veggies  HvyAlcoholConsump  \n",
            "0       0        1                  0  \n",
            "1       0        0                  0  \n",
            "2       1        0                  0  \n",
            "3       1        1                  0  \n",
            "4       1        1                  0  \n",
            "5       1        1                  0  \n",
            "6       0        0                  0  \n",
            "7       0        1                  0  \n",
            "8       1        1                  0  \n",
            "9       0        1                  0  \n"
          ]
        }
      ]
    },
    {
      "cell_type": "code",
      "source": [
        "column_to_modify1 = 'BMI'\n",
        "\n",
        "# Change BMI: 1 = Obseity, 0 = Not Obese\n",
        "data[column_to_modify1] = data[column_to_modify1].apply(lambda x: 1 if x >= 30 else 0)\n",
        "\n",
        "column_to_modify2 = 'Diabetes'\n",
        "\n",
        "# Change Diabetes: 1 = Type 1 or Type 2, 0 = Not Diabetic\n",
        "data[column_to_modify2] = data[column_to_modify2].apply(lambda x: 1 if x >= 1 else 0)\n",
        "\n",
        "print(data.head(10))"
      ],
      "metadata": {
        "colab": {
          "base_uri": "https://localhost:8080/"
        },
        "id": "MmiBpdQN7G6U",
        "outputId": "6888abbb-f2f4-457c-ebdd-977eae9b9d44"
      },
      "execution_count": null,
      "outputs": [
        {
          "output_type": "stream",
          "name": "stdout",
          "text": [
            "   HeartDiseaseorAttack  HighBP  HighChol  BMI  Smoker  Stroke  Diabetes  \\\n",
            "0                     0       1         1    0       1       0         0   \n",
            "1                     0       0         0    0       1       0         0   \n",
            "2                     0       1         1    0       0       0         0   \n",
            "3                     0       1         0    0       0       0         0   \n",
            "4                     0       1         1    0       0       0         0   \n",
            "5                     0       1         1    0       1       0         0   \n",
            "6                     0       1         0    0       1       0         0   \n",
            "7                     0       1         1    0       1       0         0   \n",
            "8                     1       1         1    0       1       0         1   \n",
            "9                     0       0         0    0       0       0         0   \n",
            "\n",
            "   Fruits  Veggies  HvyAlcoholConsump  \n",
            "0       0        1                  0  \n",
            "1       0        0                  0  \n",
            "2       1        0                  0  \n",
            "3       1        1                  0  \n",
            "4       1        1                  0  \n",
            "5       1        1                  0  \n",
            "6       0        0                  0  \n",
            "7       0        1                  0  \n",
            "8       1        1                  0  \n",
            "9       0        1                  0  \n"
          ]
        }
      ]
    },
    {
      "cell_type": "code",
      "source": [
        "# Seperating data\n",
        "y = data.values[:, 0]        # Heart Disease or Attack\n",
        "x1 = data.values[:, [1,2, 3, 5, 6]]      # Health Factors: HighBP, HighChol, BMI (Obseity), Stroke, Diabetes\n",
        "x2 = data.values[:, [4, 7, 8, 9]]      # Lifestyle Choices: Smoker, Fruits, Vegetables, Heavy Alchool Consumption\n",
        "\n",
        "# Seperating training and validation\n",
        "from sklearn.model_selection import train_test_split\n",
        "x1_train, x1_test, y_train, y_test = train_test_split(x1, y, test_size = 0.20, random_state = 2000)\n",
        "x2_train, x2_test, y_train, y_test = train_test_split(x2, y, test_size = 0.20, random_state = 2000)\n",
        "\n",
        "# Scale data\n",
        "from sklearn.preprocessing import StandardScaler\n",
        "\n",
        "sc_x1 = StandardScaler()\n",
        "x1_train = sc_x1.fit_transform(x1_train)\n",
        "x1_test = sc_x1.transform(x1_test)\n",
        "\n",
        "sc_x2 = StandardScaler()\n",
        "x2_train = sc_x2.fit_transform(x2_train)\n",
        "x2_test = sc_x2.transform(x2_test)\n",
        "\n",
        "# Logistic Regression\n",
        "from sklearn.linear_model import LogisticRegression\n",
        "\n",
        "classifier1 = LogisticRegression(random_state = 0)\n",
        "classifier1.fit(x1_train, y_train)\n",
        "\n",
        "classifier2 = LogisticRegression(random_state = 0)\n",
        "classifier2.fit(x2_train, y_train)"
      ],
      "metadata": {
        "colab": {
          "base_uri": "https://localhost:8080/",
          "height": 74
        },
        "id": "mLMZcizPK8fB",
        "outputId": "6021ce3b-d315-4793-b62b-16b92eb0e9f3"
      },
      "execution_count": null,
      "outputs": [
        {
          "output_type": "execute_result",
          "data": {
            "text/plain": [
              "LogisticRegression(random_state=0)"
            ],
            "text/html": [
              "<style>#sk-container-id-10 {color: black;background-color: white;}#sk-container-id-10 pre{padding: 0;}#sk-container-id-10 div.sk-toggleable {background-color: white;}#sk-container-id-10 label.sk-toggleable__label {cursor: pointer;display: block;width: 100%;margin-bottom: 0;padding: 0.3em;box-sizing: border-box;text-align: center;}#sk-container-id-10 label.sk-toggleable__label-arrow:before {content: \"▸\";float: left;margin-right: 0.25em;color: #696969;}#sk-container-id-10 label.sk-toggleable__label-arrow:hover:before {color: black;}#sk-container-id-10 div.sk-estimator:hover label.sk-toggleable__label-arrow:before {color: black;}#sk-container-id-10 div.sk-toggleable__content {max-height: 0;max-width: 0;overflow: hidden;text-align: left;background-color: #f0f8ff;}#sk-container-id-10 div.sk-toggleable__content pre {margin: 0.2em;color: black;border-radius: 0.25em;background-color: #f0f8ff;}#sk-container-id-10 input.sk-toggleable__control:checked~div.sk-toggleable__content {max-height: 200px;max-width: 100%;overflow: auto;}#sk-container-id-10 input.sk-toggleable__control:checked~label.sk-toggleable__label-arrow:before {content: \"▾\";}#sk-container-id-10 div.sk-estimator input.sk-toggleable__control:checked~label.sk-toggleable__label {background-color: #d4ebff;}#sk-container-id-10 div.sk-label input.sk-toggleable__control:checked~label.sk-toggleable__label {background-color: #d4ebff;}#sk-container-id-10 input.sk-hidden--visually {border: 0;clip: rect(1px 1px 1px 1px);clip: rect(1px, 1px, 1px, 1px);height: 1px;margin: -1px;overflow: hidden;padding: 0;position: absolute;width: 1px;}#sk-container-id-10 div.sk-estimator {font-family: monospace;background-color: #f0f8ff;border: 1px dotted black;border-radius: 0.25em;box-sizing: border-box;margin-bottom: 0.5em;}#sk-container-id-10 div.sk-estimator:hover {background-color: #d4ebff;}#sk-container-id-10 div.sk-parallel-item::after {content: \"\";width: 100%;border-bottom: 1px solid gray;flex-grow: 1;}#sk-container-id-10 div.sk-label:hover label.sk-toggleable__label {background-color: #d4ebff;}#sk-container-id-10 div.sk-serial::before {content: \"\";position: absolute;border-left: 1px solid gray;box-sizing: border-box;top: 0;bottom: 0;left: 50%;z-index: 0;}#sk-container-id-10 div.sk-serial {display: flex;flex-direction: column;align-items: center;background-color: white;padding-right: 0.2em;padding-left: 0.2em;position: relative;}#sk-container-id-10 div.sk-item {position: relative;z-index: 1;}#sk-container-id-10 div.sk-parallel {display: flex;align-items: stretch;justify-content: center;background-color: white;position: relative;}#sk-container-id-10 div.sk-item::before, #sk-container-id-10 div.sk-parallel-item::before {content: \"\";position: absolute;border-left: 1px solid gray;box-sizing: border-box;top: 0;bottom: 0;left: 50%;z-index: -1;}#sk-container-id-10 div.sk-parallel-item {display: flex;flex-direction: column;z-index: 1;position: relative;background-color: white;}#sk-container-id-10 div.sk-parallel-item:first-child::after {align-self: flex-end;width: 50%;}#sk-container-id-10 div.sk-parallel-item:last-child::after {align-self: flex-start;width: 50%;}#sk-container-id-10 div.sk-parallel-item:only-child::after {width: 0;}#sk-container-id-10 div.sk-dashed-wrapped {border: 1px dashed gray;margin: 0 0.4em 0.5em 0.4em;box-sizing: border-box;padding-bottom: 0.4em;background-color: white;}#sk-container-id-10 div.sk-label label {font-family: monospace;font-weight: bold;display: inline-block;line-height: 1.2em;}#sk-container-id-10 div.sk-label-container {text-align: center;}#sk-container-id-10 div.sk-container {/* jupyter's `normalize.less` sets `[hidden] { display: none; }` but bootstrap.min.css set `[hidden] { display: none !important; }` so we also need the `!important` here to be able to override the default hidden behavior on the sphinx rendered scikit-learn.org. See: https://github.com/scikit-learn/scikit-learn/issues/21755 */display: inline-block !important;position: relative;}#sk-container-id-10 div.sk-text-repr-fallback {display: none;}</style><div id=\"sk-container-id-10\" class=\"sk-top-container\"><div class=\"sk-text-repr-fallback\"><pre>LogisticRegression(random_state=0)</pre><b>In a Jupyter environment, please rerun this cell to show the HTML representation or trust the notebook. <br />On GitHub, the HTML representation is unable to render, please try loading this page with nbviewer.org.</b></div><div class=\"sk-container\" hidden><div class=\"sk-item\"><div class=\"sk-estimator sk-toggleable\"><input class=\"sk-toggleable__control sk-hidden--visually\" id=\"sk-estimator-id-10\" type=\"checkbox\" checked><label for=\"sk-estimator-id-10\" class=\"sk-toggleable__label sk-toggleable__label-arrow\">LogisticRegression</label><div class=\"sk-toggleable__content\"><pre>LogisticRegression(random_state=0)</pre></div></div></div></div></div>"
            ]
          },
          "metadata": {},
          "execution_count": 67
        }
      ]
    },
    {
      "cell_type": "code",
      "source": [
        "# Predicting test output\n",
        "y_pred = classifier1.predict(x1_test)\n",
        "y_pred[0:5]\n",
        "\n",
        "y2_pred = classifier2.predict(x2_test)\n",
        "y2_pred[0:4]\n",
        "\n",
        "# Confusion matrix to check accuracy\n",
        "from sklearn.metrics import confusion_matrix\n",
        "cnf_matrix1 = confusion_matrix(y_test, y_pred)\n",
        "cnf_matrix2 = confusion_matrix(y_test, y2_pred)\n",
        "\n"
      ],
      "metadata": {
        "id": "OHbiLXkULvbz"
      },
      "execution_count": null,
      "outputs": []
    },
    {
      "cell_type": "code",
      "source": [
        "# Evaluation of model\n",
        "from sklearn import metrics\n",
        "print(\"Accuracy (Health Factors):\",metrics.accuracy_score(y_test, y_pred))\n",
        "print(\"Precision (Health Factors):\",metrics.precision_score(y_test, y_pred))\n",
        "print(\"Recall (Health Factors):\",metrics.recall_score(y_test, y_pred))\n",
        "print(\"F1 score (Health Factors):\",metrics.f1_score(y_test, y_pred),'\\n')\n",
        "\n",
        "print(\"Accuracy (Lifestyle Choices):\",metrics.accuracy_score(y_test, y2_pred))\n",
        "print(\"Precision (Lifestyle Choices):\",metrics.precision_score(y_test, y2_pred))\n",
        "print(\"Recall (Lifestyle Choices):\",metrics.recall_score(y_test, y2_pred))\n",
        "print(\"F1 score (Lifestyle Choices):\",metrics.f1_score(y_test, y2_pred))\n"
      ],
      "metadata": {
        "colab": {
          "base_uri": "https://localhost:8080/"
        },
        "id": "hrG_3VfhMHCM",
        "outputId": "c10b8624-5581-42ea-d396-36d2d94a6a7b"
      },
      "execution_count": null,
      "outputs": [
        {
          "output_type": "stream",
          "name": "stdout",
          "text": [
            "Accuracy (Health Factors): 0.9068117313150426\n",
            "Precision (Health Factors): 0.5425531914893617\n",
            "Recall (Health Factors): 0.053481543624161076\n",
            "F1 score (Health Factors): 0.09736540664375716 \n",
            "\n",
            "Accuracy (Lifestyle Choices): 0.9060233364869127\n",
            "Precision (Lifestyle Choices): 0.0\n",
            "Recall (Lifestyle Choices): 0.0\n",
            "F1 score (Lifestyle Choices): 0.0\n"
          ]
        },
        {
          "output_type": "stream",
          "name": "stderr",
          "text": [
            "/usr/local/lib/python3.10/dist-packages/sklearn/metrics/_classification.py:1344: UndefinedMetricWarning: Precision is ill-defined and being set to 0.0 due to no predicted samples. Use `zero_division` parameter to control this behavior.\n",
            "  _warn_prf(average, modifier, msg_start, len(result))\n"
          ]
        }
      ]
    },
    {
      "cell_type": "code",
      "source": [
        "# Creating visual confusion matrix\n",
        "class_names=[0,1]\n",
        "fig, ax = plt.subplots()\n",
        "tick_marks = np.arange(len(class_names))\n",
        "plt.xticks(tick_marks, class_names)\n",
        "plt.yticks(tick_marks, class_names)\n",
        "\n",
        "# creating heatmap\n",
        "sns.heatmap(pd.DataFrame(cnf_matrix1), annot=True, cmap=\"YlGnBu\" ,fmt='g')\n",
        "ax.xaxis.set_label_position(\"top\")\n",
        "plt.tight_layout()\n",
        "plt.title('Health Factors Confusion matrix', y=1.1)\n",
        "plt.ylabel('Actual label')\n",
        "plt.xlabel('Predicted label')\n",
        "\n",
        "# Creating visual confusion matrix\n",
        "class_names=[0,1]\n",
        "fig, ax = plt.subplots()\n",
        "tick_marks = np.arange(len(class_names))\n",
        "plt.xticks(tick_marks, class_names)\n",
        "plt.yticks(tick_marks, class_names)\n",
        "\n",
        "# creating heatmap\n",
        "sns.heatmap(pd.DataFrame(cnf_matrix2), annot=True, cmap=\"YlGnBu\" ,fmt='g')\n",
        "ax.xaxis.set_label_position(\"top\")\n",
        "plt.tight_layout()\n",
        "plt.title('Lifestyle Choces Confusion matrix', y=1.1)\n",
        "plt.ylabel('Actual label')\n",
        "plt.xlabel('Predicted label')"
      ],
      "metadata": {
        "colab": {
          "base_uri": "https://localhost:8080/",
          "height": 1000
        },
        "id": "rtYh3CSoMvOA",
        "outputId": "dd299bb8-c5a2-4503-9c51-ce3760bc0946"
      },
      "execution_count": 74,
      "outputs": [
        {
          "output_type": "execute_result",
          "data": {
            "text/plain": [
              "Text(0.5, 427.9555555555555, 'Predicted label')"
            ]
          },
          "metadata": {},
          "execution_count": 74
        },
        {
          "output_type": "display_data",
          "data": {
            "text/plain": [
              "<Figure size 640x480 with 2 Axes>"
            ],
            "image/png": "[encoded data removed]"
          },
          "metadata": {}
        },
        {
          "output_type": "display_data",
          "data": {
            "text/plain": [
              "<Figure size 640x480 with 2 Axes>"
            ],
            "image/png": "[encoded data removed]"
          },
          "metadata": {}
        }
      ]
    }
  ]
}